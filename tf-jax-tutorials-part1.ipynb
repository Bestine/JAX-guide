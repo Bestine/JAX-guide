{
 "cells": [
  {
   "cell_type": "markdown",
   "id": "elementary-filling",
   "metadata": {
    "papermill": {
     "duration": 0.021243,
     "end_time": "2023-10-17T22:58:42.510951",
     "exception": false,
     "start_time": "2023-10-17T22:58:42.489708",
     "status": "completed"
    },
    "tags": []
   },
   "source": [
    "**Update - 23rd Dec, 2021**\n",
    "\n",
    "We have completed the TF-JAX tutorials series. 10 notebooks that covers every fundamental aspect of both TensorFlow and JAX. Here are the links to the notebooks along with the Github repo details:\n",
    "\n",
    "### TensorFlow Notebooks:\n",
    "\n",
    "* [TF_JAX_Tutorials - Part 1](https://www.kaggle.com/aakashnain/tf-jax-tutorials-part1)\n",
    "* [TF_JAX_Tutorials - Part 2](https://www.kaggle.com/aakashnain/tf-jax-tutorials-part2)\n",
    "* [TF_JAX_Tutorials - Part 3](https://www.kaggle.com/aakashnain/tf-jax-tutorials-part3)\n",
    "\n",
    "### JAX Notebooks:\n",
    "\n",
    "* [TF_JAX_Tutorials - Part 4 (JAX and DeviceArray)](https://www.kaggle.com/aakashnain/tf-jax-tutorials-part-4-jax-and-devicearray)\n",
    "* [TF_JAX_Tutorials - Part 5 (Pure Functions in JAX)](https://www.kaggle.com/aakashnain/tf-jax-tutorials-part-5-pure-functions-in-jax/)\n",
    "* [TF_JAX_Tutorials - Part 6 (PRNG in JAX)](https://www.kaggle.com/aakashnain/tf-jax-tutorials-part-6-prng-in-jax/)\n",
    "* [TF_JAX_Tutorials - Part 7 (JIT in JAX)](https://www.kaggle.com/aakashnain/tf-jax-tutorials-part-7-jit-in-jax)\n",
    "* [TF_JAX_Tutorials - Part 8 (Vmap and Pmap)](https://www.kaggle.com/aakashnain/tf-jax-tutorials-part-8-vmap-pmap)\n",
    "* [TF_JAX_Tutorials - Part 9 (Autodiff in JAX)](https://www.kaggle.com/aakashnain/tf-jax-tutorials-part-9-autodiff-in-jax)\n",
    "* [TF_JAX_Tutorials - Part 10 (Pytrees in JAX)](https://www.kaggle.com/aakashnain/tf-jax-tutorials-part-10-pytrees-in-jax)\n",
    "\n",
    "### Github Repo with all notebooks in one place\n",
    "https://github.com/AakashKumarNain/TF_JAX_tutorials\n",
    "\n",
    "\n",
    "---\n",
    "\n",
    "\n",
    "\n",
    "<img src=\"https://i.ytimg.com/vi/yjprpOoH5c8/maxresdefault.jpg\" width=\"300\" height=\"300\" align=\"center\"/>\n",
    "\n",
    "Welcome to the TensorFlow/JAX tutorials. These tutorials are meant for everyone (from novice to advanced). We will start from the very basics. No rush!\n",
    "These tutorials are meant to improve your understanding of the two frameworks TensorFlow and JAX. We will start with TensorFlow and will cover JAX side-by-side. This isn't typically a documentation-type tutorial, and these aren't meant to be the replacement. These are meant to give you insights with minimal effort. Sit tight and let's start!\n",
    "\n",
    "**Note** The tutorials will be following this format:\n",
    "1. TF Fundamentals (2-3 notebooks)\n",
    "2. JAX Fundamentals (2-3 notebooks)\n",
    "3. Advanced TF (2-3 notebooks)\n",
    "4. Advanced JAX (2-3 notebooks)"
   ]
  },
  {
   "cell_type": "code",
   "execution_count": 1,
   "id": "blond-morrison",
   "metadata": {
    "_cell_guid": "b1076dfc-b9ad-4769-8c92-a6c4dae69d19",
    "_uuid": "8f2839f25d086af736a60e9eeb907d3b93b6e0e5",
    "execution": {
     "iopub.execute_input": "2023-10-17T22:58:42.552835Z",
     "iopub.status.busy": "2023-10-17T22:58:42.551725Z",
     "iopub.status.idle": "2023-10-17T22:58:48.722736Z",
     "shell.execute_reply": "2023-10-17T22:58:48.723259Z",
     "shell.execute_reply.started": "2023-10-17T22:51:50.158502Z"
    },
    "papermill": {
     "duration": 6.194092,
     "end_time": "2023-10-17T22:58:48.723646",
     "exception": false,
     "start_time": "2023-10-17T22:58:42.529554",
     "status": "completed"
    },
    "scrolled": true,
    "tags": []
   },
   "outputs": [],
   "source": [
    "import numpy as np\n",
    "import tensorflow as tf\n",
    "from tensorflow import keras\n",
    "from tensorflow.keras import layers\n",
    "\n",
    "seed=1234\n",
    "np.random.seed(seed)\n",
    "tf.random.set_seed(seed)\n",
    "%config IPCompleter.use_jedi = False"
   ]
  },
  {
   "cell_type": "markdown",
   "id": "homeless-height",
   "metadata": {
    "papermill": {
     "duration": 0.016624,
     "end_time": "2023-10-17T22:58:48.757414",
     "exception": false,
     "start_time": "2023-10-17T22:58:48.740790",
     "status": "completed"
    },
    "tags": []
   },
   "source": [
    "## Tensors\n",
    "\n",
    "What is a `Tensor` anyway?<br>\n",
    "Although the meaning of `Tensor` is much diverse than what we typically use in ML, whenever we say `tensor` in ML, we mean that it is a **`multi-dimensional array`** where all the values have a uniform `dtype`. There are many ways to create a TF tensor. We will take a look at a few of them, a few important ones."
   ]
  },
  {
   "cell_type": "markdown",
   "id": "right-dynamics",
   "metadata": {
    "papermill": {
     "duration": 0.01671,
     "end_time": "2023-10-17T22:58:48.791330",
     "exception": false,
     "start_time": "2023-10-17T22:58:48.774620",
     "status": "completed"
    },
    "tags": []
   },
   "source": [
    "`tf.constant(..)`: This is the simplest way yet with some `gotchas` to create a tensor object. First, let's try to create a tensor with it, and then we will look at the gotchas later on."
   ]
  },
  {
   "cell_type": "code",
   "execution_count": 2,
   "id": "german-bankruptcy",
   "metadata": {
    "execution": {
     "iopub.execute_input": "2023-10-17T22:58:48.828690Z",
     "iopub.status.busy": "2023-10-17T22:58:48.828017Z",
     "iopub.status.idle": "2023-10-17T22:58:48.846126Z",
     "shell.execute_reply": "2023-10-17T22:58:48.845464Z",
     "shell.execute_reply.started": "2023-10-17T22:52:15.227563Z"
    },
    "papermill": {
     "duration": 0.038105,
     "end_time": "2023-10-17T22:58:48.846332",
     "exception": false,
     "start_time": "2023-10-17T22:58:48.808227",
     "status": "completed"
    },
    "tags": []
   },
   "outputs": [
    {
     "name": "stdout",
     "output_type": "stream",
     "text": [
      "tf.Tensor(5.0, shape=(), dtype=float32)\n"
     ]
    }
   ],
   "source": [
    "# A zero rank tensor. A zero rank tensor is nothing but a single value\n",
    "x = tf.constant(5.0)\n",
    "print(x)"
   ]
  },
  {
   "cell_type": "markdown",
   "id": "thermal-developer",
   "metadata": {
    "papermill": {
     "duration": 0.018956,
     "end_time": "2023-10-17T22:58:48.884418",
     "exception": false,
     "start_time": "2023-10-17T22:58:48.865462",
     "status": "completed"
    },
    "tags": []
   },
   "source": [
    "As you can see above, that the tensor object has a `shape` and a `dtype`. There are other attributes/properties as well that are associated with a tensor object. \n",
    "\n",
    "\n",
    "1. Shape: The length (number of elements) of each of the axes of a tensor.\n",
    "2. Rank: Number of axes. For example, a matrix is a tensor of rank 2.\n",
    "3. Axis or Dimension: A particular dimension of a tensor.\n",
    "4. Size: The total number of items in the tensor."
   ]
  },
  {
   "cell_type": "code",
   "execution_count": 3,
   "id": "foreign-sixth",
   "metadata": {
    "execution": {
     "iopub.execute_input": "2023-10-17T22:58:48.938212Z",
     "iopub.status.busy": "2023-10-17T22:58:48.922179Z",
     "iopub.status.idle": "2023-10-17T22:58:48.944653Z",
     "shell.execute_reply": "2023-10-17T22:58:48.944058Z",
     "shell.execute_reply.started": "2023-10-17T22:52:33.499603Z"
    },
    "papermill": {
     "duration": 0.042824,
     "end_time": "2023-10-17T22:58:48.944825",
     "exception": false,
     "start_time": "2023-10-17T22:58:48.902001",
     "status": "completed"
    },
    "tags": []
   },
   "outputs": [
    {
     "name": "stdout",
     "output_type": "stream",
     "text": [
      "`y` is now a <class 'numpy.ndarray'> object and have a value == [1 2 3]\n"
     ]
    }
   ],
   "source": [
    "# We can convert any tensor object to `ndarray` by calling the `numpy()` method\n",
    "y = tf.constant([1, 2, 3], dtype=tf.int8).numpy()\n",
    "print(f\"`y` is now a {type(y)} object and have a value == {y}\")"
   ]
  },
  {
   "cell_type": "markdown",
   "id": "resident-partnership",
   "metadata": {
    "papermill": {
     "duration": 0.018727,
     "end_time": "2023-10-17T22:58:48.981721",
     "exception": false,
     "start_time": "2023-10-17T22:58:48.962994",
     "status": "completed"
    },
    "tags": []
   },
   "source": [
    "**A few important things along with some gotchas**<br>\n",
    "1. People confuse `tf.constant(..)` with an operation that creates a `constant` tensor. There is no such relation. This is related to how we embed a node in a `tf.Graph`\n",
    "2. Any tensor in TensorFlow is **immutable** by default i.e. you cannot change the values of a tensor once created. You always create a new one. This is different from `numpy` and `pytorch` where you can actually modify the values. We will see an example on this in a bit\n",
    "3. One of the closest member to `tf.constant` is the `tf.convert_to_tensor()` method with a few difference which we will see later on\n",
    "4. `tf.constant(..)` is just one of the many ways to create a tensor. There are many other methods as well"
   ]
  },
  {
   "cell_type": "code",
   "execution_count": 4,
   "id": "fundamental-implementation",
   "metadata": {
    "execution": {
     "iopub.execute_input": "2023-10-17T22:58:49.024763Z",
     "iopub.status.busy": "2023-10-17T22:58:49.023933Z",
     "iopub.status.idle": "2023-10-17T22:58:49.028720Z",
     "shell.execute_reply": "2023-10-17T22:58:49.028197Z",
     "shell.execute_reply.started": "2023-10-17T22:53:30.537074Z"
    },
    "papermill": {
     "duration": 0.029229,
     "end_time": "2023-10-17T22:58:49.028882",
     "exception": false,
     "start_time": "2023-10-17T22:58:48.999653",
     "status": "completed"
    },
    "tags": []
   },
   "outputs": [
    {
     "name": "stdout",
     "output_type": "stream",
     "text": [
      "TypeError 'tensorflow.python.framework.ops.EagerTensor' object does not support item assignment\n"
     ]
    }
   ],
   "source": [
    "# Immutability check\n",
    "\n",
    "# Rank-1 tensor\n",
    "x = tf.constant([1, 2], dtype=tf.int8)\n",
    "\n",
    "# Try to modify the values\n",
    "try:\n",
    "    x[1] = 3\n",
    "except Exception as ex:\n",
    "    print(type(ex).__name__, ex)"
   ]
  },
  {
   "cell_type": "code",
   "execution_count": 5,
   "id": "muslim-exception",
   "metadata": {
    "execution": {
     "iopub.execute_input": "2023-10-17T22:58:49.068959Z",
     "iopub.status.busy": "2023-10-17T22:58:49.068173Z",
     "iopub.status.idle": "2023-10-17T22:58:49.082418Z",
     "shell.execute_reply": "2023-10-17T22:58:49.081202Z",
     "shell.execute_reply.started": "2023-10-17T22:53:34.446613Z"
    },
    "papermill": {
     "duration": 0.035791,
     "end_time": "2023-10-17T22:58:49.082708",
     "exception": false,
     "start_time": "2023-10-17T22:58:49.046917",
     "status": "completed"
    },
    "tags": []
   },
   "outputs": [
    {
     "name": "stdout",
     "output_type": "stream",
     "text": [
      "tf.Tensor([1 1], shape=(2,), dtype=int8)\n",
      "\n",
      " TypeError 'tensorflow.python.framework.ops.EagerTensor' object does not support item assignment\n"
     ]
    }
   ],
   "source": [
    "# tf.constant(..) is no special. Let's create a tensor using a diff method\n",
    "x = tf.ones(2, dtype=tf.int8)\n",
    "print(x)\n",
    "\n",
    "try:\n",
    "    x[0] = 3\n",
    "except Exception as ex:\n",
    "    print(\"\\n\", type(ex).__name__, ex)"
   ]
  },
  {
   "cell_type": "code",
   "execution_count": 6,
   "id": "afraid-yahoo",
   "metadata": {
    "execution": {
     "iopub.execute_input": "2023-10-17T22:58:49.129067Z",
     "iopub.status.busy": "2023-10-17T22:58:49.128320Z",
     "iopub.status.idle": "2023-10-17T22:58:49.137173Z",
     "shell.execute_reply": "2023-10-17T22:58:49.136423Z",
     "shell.execute_reply.started": "2023-10-17T22:53:37.840970Z"
    },
    "papermill": {
     "duration": 0.035176,
     "end_time": "2023-10-17T22:58:49.137334",
     "exception": false,
     "start_time": "2023-10-17T22:58:49.102158",
     "status": "completed"
    },
    "tags": []
   },
   "outputs": [
    {
     "name": "stdout",
     "output_type": "stream",
     "text": [
      "Shape of x : (2,)\n",
      "Another method to obtain the shape using `tf.shape(..)`: [2]\n",
      "\n",
      "Rank of the tensor: 1\n",
      "dtype of the tensor: <dtype: 'int8'>\n",
      "Total size of the tensor: 2\n",
      "Values of the tensor: [1 1]\n"
     ]
    }
   ],
   "source": [
    "# Check all the properties of a tensor object\n",
    "print(f\"Shape of x : {x.shape}\")\n",
    "print(f\"Another method to obtain the shape using `tf.shape(..)`: {tf.shape(x)}\")\n",
    "\n",
    "print(f\"\\nRank of the tensor: {x.ndim}\")\n",
    "print(f\"dtype of the tensor: {x.dtype}\")\n",
    "print(f\"Total size of the tensor: {tf.size(x)}\")\n",
    "print(f\"Values of the tensor: {x.numpy()}\")"
   ]
  },
  {
   "cell_type": "markdown",
   "id": "processed-condition",
   "metadata": {
    "papermill": {
     "duration": 0.017836,
     "end_time": "2023-10-17T22:58:49.174913",
     "exception": false,
     "start_time": "2023-10-17T22:58:49.157077",
     "status": "completed"
    },
    "tags": []
   },
   "source": [
    "Not able to do assignment in Tensor objects is a bit (more than bit TBH) frustrating. What's the solution then?<br>\n",
    "The best way that I have figured out, that has always worked for my use case is to create a mask or to use [tf.tensor_scatter_nd_update](https://www.tensorflow.org/api_docs/python/tf/tensor_scatter_nd_update). Let's look at an example.<br>\n",
    "\n",
    "Original tensor -> `[1, 2, 3, 4, 5]` <br>\n",
    "Output tensor we want -> `[1, 200, 3, 400, 5]`<br>"
   ]
  },
  {
   "cell_type": "code",
   "execution_count": 7,
   "id": "separated-bankruptcy",
   "metadata": {
    "execution": {
     "iopub.execute_input": "2023-10-17T22:58:49.220023Z",
     "iopub.status.busy": "2023-10-17T22:58:49.218998Z",
     "iopub.status.idle": "2023-10-17T22:58:49.253895Z",
     "shell.execute_reply": "2023-10-17T22:58:49.254351Z",
     "shell.execute_reply.started": "2023-10-17T22:53:43.436354Z"
    },
    "papermill": {
     "duration": 0.061716,
     "end_time": "2023-10-17T22:58:49.254604",
     "exception": false,
     "start_time": "2023-10-17T22:58:49.192888",
     "status": "completed"
    },
    "tags": []
   },
   "outputs": [
    {
     "name": "stdout",
     "output_type": "stream",
     "text": [
      "Original tensor:  tf.Tensor([1. 2. 3. 4. 5.], shape=(5,), dtype=float32)\n",
      "Original mask:  tf.Tensor([False  True False  True False], shape=(5,), dtype=bool)\n",
      "Mask casted to original tensor type:  tf.Tensor([0. 1. 0. 1. 0.], shape=(5,), dtype=float32)\n",
      "Output tensor:  tf.Tensor([  1. 200.   3. 400.   5.], shape=(5,), dtype=float32)\n"
     ]
    }
   ],
   "source": [
    "# Create a tensor first. Here is another way\n",
    "x = tf.cast([1, 2, 3, 4, 5], dtype=tf.float32)\n",
    "print(\"Original tensor: \", x)\n",
    "\n",
    "mask = x%2 == 0\n",
    "print(\"Original mask: \", mask)\n",
    "\n",
    "mask = tf.cast(mask, dtype=x.dtype)\n",
    "print(\"Mask casted to original tensor type: \", mask)\n",
    "\n",
    "# Some kind of operation on an tensor that is of same size \n",
    "# or broadcastable to the original tensor. Here we will simply\n",
    "# use the range object to create that tensor\n",
    "temp = tf.cast(tf.range(1, 6) * 100, dtype=x.dtype)\n",
    "\n",
    "# Output tensor\n",
    "# Input tensor -> [1, 2, 3, 4, 5]\n",
    "# Mask -> [0, 1, 0, 1, 0]\n",
    "out = x * (1-mask) + mask * temp\n",
    "print(\"Output tensor: \", out)"
   ]
  },
  {
   "cell_type": "code",
   "execution_count": 8,
   "id": "unknown-sharp",
   "metadata": {
    "execution": {
     "iopub.execute_input": "2023-10-17T22:58:49.298393Z",
     "iopub.status.busy": "2023-10-17T22:58:49.297712Z",
     "iopub.status.idle": "2023-10-17T22:58:49.320258Z",
     "shell.execute_reply": "2023-10-17T22:58:49.319641Z",
     "shell.execute_reply.started": "2023-10-17T22:53:48.425800Z"
    },
    "papermill": {
     "duration": 0.046643,
     "end_time": "2023-10-17T22:58:49.320409",
     "exception": false,
     "start_time": "2023-10-17T22:58:49.273766",
     "status": "completed"
    },
    "tags": []
   },
   "outputs": [
    {
     "name": "stdout",
     "output_type": "stream",
     "text": [
      "Indices to update:  tf.Tensor(\n",
      "[[1]\n",
      " [3]], shape=(2, 1), dtype=int64)\n",
      "\n",
      "Output tensor\n",
      "tf.Tensor([  1. 200.   3. 400.   5.], shape=(5,), dtype=float32)\n"
     ]
    }
   ],
   "source": [
    "# Another way to achieve the same thing\n",
    "indices_to_update = tf.where(x % 2 == 0)\n",
    "print(\"Indices to update: \", indices_to_update)\n",
    "\n",
    "# Update the tensor values\n",
    "updates = [200., 400.]\n",
    "out = tf.tensor_scatter_nd_update(x, indices_to_update, updates)\n",
    "print(\"\\nOutput tensor\")\n",
    "print(out)"
   ]
  },
  {
   "cell_type": "markdown",
   "id": "yellow-cigarette",
   "metadata": {
    "papermill": {
     "duration": 0.01862,
     "end_time": "2023-10-17T22:58:49.357990",
     "exception": false,
     "start_time": "2023-10-17T22:58:49.339370",
     "status": "completed"
    },
    "tags": []
   },
   "source": [
    "Let's take a look at another interesting thing now."
   ]
  },
  {
   "cell_type": "code",
   "execution_count": 9,
   "id": "steady-vessel",
   "metadata": {
    "execution": {
     "iopub.execute_input": "2023-10-17T22:58:49.403103Z",
     "iopub.status.busy": "2023-10-17T22:58:49.402388Z",
     "iopub.status.idle": "2023-10-17T22:58:49.406662Z",
     "shell.execute_reply": "2023-10-17T22:58:49.406090Z",
     "shell.execute_reply.started": "2023-10-17T22:53:53.849684Z"
    },
    "papermill": {
     "duration": 0.029847,
     "end_time": "2023-10-17T22:58:49.406826",
     "exception": false,
     "start_time": "2023-10-17T22:58:49.376979",
     "status": "completed"
    },
    "tags": []
   },
   "outputs": [
    {
     "name": "stdout",
     "output_type": "stream",
     "text": [
      "Numpy array:  [3 4 4 0 1]\n",
      "Accessing numpy array elements based on a  condition with irregular strides [4 1]\n"
     ]
    }
   ],
   "source": [
    "# This works!\n",
    "arr = np.random.randint(5, size=(5,), dtype=np.int32)\n",
    "print(\"Numpy array: \", arr)\n",
    "\n",
    "print(\"Accessing numpy array elements based on a  condition with irregular strides\", arr[[1, 4]])"
   ]
  },
  {
   "cell_type": "code",
   "execution_count": 10,
   "id": "embedded-classification",
   "metadata": {
    "execution": {
     "iopub.execute_input": "2023-10-17T22:58:49.450505Z",
     "iopub.status.busy": "2023-10-17T22:58:49.449825Z",
     "iopub.status.idle": "2023-10-17T22:58:49.460096Z",
     "shell.execute_reply": "2023-10-17T22:58:49.460768Z",
     "shell.execute_reply.started": "2023-10-17T22:53:58.165979Z"
    },
    "papermill": {
     "duration": 0.033734,
     "end_time": "2023-10-17T22:58:49.461000",
     "exception": false,
     "start_time": "2023-10-17T22:58:49.427266",
     "status": "completed"
    },
    "tags": []
   },
   "outputs": [
    {
     "name": "stdout",
     "output_type": "stream",
     "text": [
      "InvalidArgumentError Index out of range using input dim 1; input has only 1 dims [Op:StridedSlice] name: strided_slice/\n"
     ]
    }
   ],
   "source": [
    "# This doesn't work\n",
    "try:\n",
    "    print(\"Accessing tensor elements based on a  condition with irregular strides\", x[[1, 4]])\n",
    "except Exception as ex:\n",
    "    print(type(ex).__name__, ex)"
   ]
  },
  {
   "cell_type": "markdown",
   "id": "large-conservation",
   "metadata": {
    "papermill": {
     "duration": 0.023325,
     "end_time": "2023-10-17T22:58:49.505134",
     "exception": false,
     "start_time": "2023-10-17T22:58:49.481809",
     "status": "completed"
    },
    "tags": []
   },
   "source": [
    "What now? If you want to extract multiple elements from a tensor with irregular strides, or not so well defined strides, then [tf.gather](https://www.tensorflow.org/api_docs/python/tf/gather) and [tf.gather_nd](https://www.tensorflow.org/api_docs/python/tf/gather_nd) are your friend. Let;s try it again! "
   ]
  },
  {
   "cell_type": "code",
   "execution_count": 11,
   "id": "fantastic-hollow",
   "metadata": {
    "execution": {
     "iopub.execute_input": "2023-10-17T22:58:49.556931Z",
     "iopub.status.busy": "2023-10-17T22:58:49.556182Z",
     "iopub.status.idle": "2023-10-17T22:58:49.570773Z",
     "shell.execute_reply": "2023-10-17T22:58:49.570124Z",
     "shell.execute_reply.started": "2023-10-17T22:54:05.604756Z"
    },
    "papermill": {
     "duration": 0.042105,
     "end_time": "2023-10-17T22:58:49.570941",
     "exception": false,
     "start_time": "2023-10-17T22:58:49.528836",
     "status": "completed"
    },
    "tags": []
   },
   "outputs": [
    {
     "name": "stdout",
     "output_type": "stream",
     "text": [
      "Original tensor:  [1. 2. 3. 4. 5.]\n",
      "\n",
      "Indices to update:  [[1]\n",
      " [3]]\n",
      "\n",
      " Accesing tensor elements using gather\n",
      "\n",
      " [[2.]\n",
      " [4.]]\n"
     ]
    }
   ],
   "source": [
    "print(\"Original tensor: \", x.numpy())\n",
    "\n",
    "# Using the indices that we used for mask\n",
    "print(\"\\nIndices to update: \", indices_to_update.numpy())\n",
    "\n",
    "# This works!\n",
    "print(\"\\n Accesing tensor elements using gather\")\n",
    "print(\"\\n\", tf.gather(x, indices_to_update).numpy())"
   ]
  },
  {
   "cell_type": "markdown",
   "id": "pretty-paste",
   "metadata": {
    "papermill": {
     "duration": 0.019578,
     "end_time": "2023-10-17T22:58:49.610575",
     "exception": false,
     "start_time": "2023-10-17T22:58:49.590997",
     "status": "completed"
    },
    "tags": []
   },
   "source": [
    "There is another method `tf.convert_to_tensor(..)` to create a tensor. This is very similar to `tf.constant(..)` but with a few subtle differences:<br>\n",
    "1. Whenever you pass a non tf.Tensor object like a Python list or a ndarray to an op, `convert_to_tensor(..)` is always called automaically\n",
    "2. It doesn't take `shape` as an input argument.\n",
    "3. It allows to pass even `symbolic tensors`. We will take a look at it in a bit.\n",
    "\n",
    "When to use `tf.convert_to_tensor(..)`? It's up to your mental model! "
   ]
  },
  {
   "cell_type": "code",
   "execution_count": 12,
   "id": "second-bracelet",
   "metadata": {
    "execution": {
     "iopub.execute_input": "2023-10-17T22:58:49.658602Z",
     "iopub.status.busy": "2023-10-17T22:58:49.657844Z",
     "iopub.status.idle": "2023-10-17T22:58:49.670744Z",
     "shell.execute_reply": "2023-10-17T22:58:49.671185Z",
     "shell.execute_reply.started": "2023-10-17T22:54:09.407563Z"
    },
    "papermill": {
     "duration": 0.040899,
     "end_time": "2023-10-17T22:58:49.671395",
     "exception": false,
     "start_time": "2023-10-17T22:58:49.630496",
     "status": "completed"
    },
    "tags": []
   },
   "outputs": [
    {
     "name": "stdout",
     "output_type": "stream",
     "text": [
      "Tensor from python list:  tf.Tensor([1 2 3], shape=(3,), dtype=int32)\n",
      "Tensor from ndarray:  tf.Tensor([1 2 3], shape=(3,), dtype=int64)\n",
      "Tensor from python list:  Tensor(\"Placeholder:0\", shape=(None, None, None), dtype=int32)\n"
     ]
    }
   ],
   "source": [
    "#  An example with a python list\n",
    "y = tf.convert_to_tensor([1, 2, 3])\n",
    "print(\"Tensor from python list: \", y)\n",
    "\n",
    "#  An example with a ndarray\n",
    "y = tf.convert_to_tensor(np.array([1, 2, 3]))\n",
    "print(\"Tensor from ndarray: \", y)\n",
    "\n",
    "#  An example with symbolic tensors\n",
    "with tf.compat.v1.Graph().as_default():\n",
    "    y = tf.convert_to_tensor(tf.compat.v1.placeholder(shape=[None, None, None], dtype=tf.int32))\n",
    "print(\"Tensor from python list: \", y)"
   ]
  },
  {
   "cell_type": "markdown",
   "id": "driven-indonesia",
   "metadata": {
    "papermill": {
     "duration": 0.019513,
     "end_time": "2023-10-17T22:58:49.711136",
     "exception": false,
     "start_time": "2023-10-17T22:58:49.691623",
     "status": "completed"
    },
    "tags": []
   },
   "source": [
    "### Other kind of Tensor objects available"
   ]
  },
  {
   "cell_type": "markdown",
   "id": "expanded-hanging",
   "metadata": {
    "papermill": {
     "duration": 0.019536,
     "end_time": "2023-10-17T22:58:49.750541",
     "exception": false,
     "start_time": "2023-10-17T22:58:49.731005",
     "status": "completed"
    },
    "tags": []
   },
   "source": [
    "#### String tensors"
   ]
  },
  {
   "cell_type": "code",
   "execution_count": 13,
   "id": "naval-second",
   "metadata": {
    "execution": {
     "iopub.execute_input": "2023-10-17T22:58:49.799960Z",
     "iopub.status.busy": "2023-10-17T22:58:49.798748Z",
     "iopub.status.idle": "2023-10-17T22:58:49.803966Z",
     "shell.execute_reply": "2023-10-17T22:58:49.804389Z",
     "shell.execute_reply.started": "2023-10-17T22:54:12.939658Z"
    },
    "papermill": {
     "duration": 0.034159,
     "end_time": "2023-10-17T22:58:49.804615",
     "exception": false,
     "start_time": "2023-10-17T22:58:49.770456",
     "status": "completed"
    },
    "tags": []
   },
   "outputs": [
    {
     "name": "stdout",
     "output_type": "stream",
     "text": [
      "String tensor:  tf.Tensor(b'abc', shape=(), dtype=string)\n",
      "\n",
      "Accessing second element of the string\n",
      "InvalidArgumentError Index out of range using input dim 0; input has only 0 dims [Op:StridedSlice] name: strided_slice/\n"
     ]
    }
   ],
   "source": [
    "# String as a tensor object with dtype==tf.string\n",
    "string = tf.constant(\"abc\", dtype=tf.string)\n",
    "print(\"String tensor: \", string)\n",
    "\n",
    "# String tensors are atomic and non-indexable. \n",
    "# This doen't work as expected!\n",
    "print(\"\\nAccessing second element of the string\")\n",
    "try:\n",
    "    print(string[1])\n",
    "except Exception as ex:\n",
    "    print(type(ex).__name__, ex)"
   ]
  },
  {
   "cell_type": "markdown",
   "id": "worthy-japanese",
   "metadata": {
    "papermill": {
     "duration": 0.022387,
     "end_time": "2023-10-17T22:58:49.849383",
     "exception": false,
     "start_time": "2023-10-17T22:58:49.826996",
     "status": "completed"
    },
    "tags": []
   },
   "source": [
    "#### Ragged tensors\n",
    "In short, a tensor with variable numbers of elements along some axis."
   ]
  },
  {
   "cell_type": "code",
   "execution_count": 14,
   "id": "brilliant-congress",
   "metadata": {
    "execution": {
     "iopub.execute_input": "2023-10-17T22:58:49.901346Z",
     "iopub.status.busy": "2023-10-17T22:58:49.900343Z",
     "iopub.status.idle": "2023-10-17T22:58:49.908453Z",
     "shell.execute_reply": "2023-10-17T22:58:49.908935Z",
     "shell.execute_reply.started": "2023-10-17T22:54:17.004905Z"
    },
    "papermill": {
     "duration": 0.033307,
     "end_time": "2023-10-17T22:58:49.909130",
     "exception": false,
     "start_time": "2023-10-17T22:58:49.875823",
     "status": "completed"
    },
    "tags": []
   },
   "outputs": [
    {
     "name": "stdout",
     "output_type": "stream",
     "text": [
      "Creating ragged tensor from python sequence:  <tf.RaggedTensor [[1, 2, 3], [4, 5], [6]]>\n"
     ]
    }
   ],
   "source": [
    "# This works!\n",
    "y = [[1, 2, 3],\n",
    "     [4, 5],\n",
    "     [6]\n",
    "    ]\n",
    "\n",
    "ragged = tf.ragged.constant(y)\n",
    "print(\"Creating ragged tensor from python sequence: \", ragged)"
   ]
  },
  {
   "cell_type": "code",
   "execution_count": 15,
   "id": "driving-horror",
   "metadata": {
    "execution": {
     "iopub.execute_input": "2023-10-17T22:58:49.957204Z",
     "iopub.status.busy": "2023-10-17T22:58:49.956251Z",
     "iopub.status.idle": "2023-10-17T22:58:49.959771Z",
     "shell.execute_reply": "2023-10-17T22:58:49.960264Z",
     "shell.execute_reply.started": "2023-10-17T22:54:20.301504Z"
    },
    "papermill": {
     "duration": 0.030239,
     "end_time": "2023-10-17T22:58:49.960436",
     "exception": false,
     "start_time": "2023-10-17T22:58:49.930197",
     "status": "completed"
    },
    "tags": []
   },
   "outputs": [
    {
     "name": "stdout",
     "output_type": "stream",
     "text": [
      "Trying to create tensor from above python sequence\n",
      "\n",
      "ValueError Can't convert non-rectangular Python sequence to Tensor.\n"
     ]
    }
   ],
   "source": [
    "# This won't work\n",
    "print(\"Trying to create tensor from above python sequence\\n\")\n",
    "try:\n",
    "    z = tf.constant(y)\n",
    "except Exception as ex:\n",
    "    print(type(ex).__name__, ex)"
   ]
  },
  {
   "cell_type": "markdown",
   "id": "current-necessity",
   "metadata": {
    "papermill": {
     "duration": 0.021156,
     "end_time": "2023-10-17T22:58:50.002261",
     "exception": false,
     "start_time": "2023-10-17T22:58:49.981105",
     "status": "completed"
    },
    "tags": []
   },
   "source": [
    "#### Sparse tensors"
   ]
  },
  {
   "cell_type": "code",
   "execution_count": 16,
   "id": "electrical-immunology",
   "metadata": {
    "execution": {
     "iopub.execute_input": "2023-10-17T22:58:50.051088Z",
     "iopub.status.busy": "2023-10-17T22:58:50.050358Z",
     "iopub.status.idle": "2023-10-17T22:58:50.061422Z",
     "shell.execute_reply": "2023-10-17T22:58:50.061992Z",
     "shell.execute_reply.started": "2023-10-17T22:54:29.476618Z"
    },
    "papermill": {
     "duration": 0.039314,
     "end_time": "2023-10-17T22:58:50.062176",
     "exception": false,
     "start_time": "2023-10-17T22:58:50.022862",
     "status": "completed"
    },
    "tags": []
   },
   "outputs": [
    {
     "name": "stdout",
     "output_type": "stream",
     "text": [
      "SparseTensor(indices=tf.Tensor(\n",
      "[[0 0]\n",
      " [1 1]\n",
      " [2 2]], shape=(3, 2), dtype=int64), values=tf.Tensor([1 2 3], shape=(3,), dtype=int32), dense_shape=tf.Tensor([3 3], shape=(2,), dtype=int64))\n",
      "\n",
      " tf.Tensor(\n",
      "[[1 0 0]\n",
      " [0 2 0]\n",
      " [0 0 3]], shape=(3, 3), dtype=int32)\n"
     ]
    }
   ],
   "source": [
    "# Let's say you have a an array like this one\n",
    "# [[1 0 0]\n",
    "#  [0 2 0]\n",
    "#  [0 0 3]]\n",
    "# If there are too many zeros in your `huge` tensor, then it is wise to use `sparse`\n",
    "# tensors instead of `dense` one. Let's say how to create this one. We need to specify:\n",
    "# 1. Indices where our values are\n",
    "# 2. The values \n",
    "# 3. The actual shape\n",
    "\n",
    "sparse_tensor = tf.SparseTensor(indices=[[0, 0], [1, 1], [2, 2]],\n",
    "                                values=[1, 2, 3],\n",
    "                                dense_shape=[3, 3]\n",
    "                               )\n",
    "print(sparse_tensor)\n",
    "\n",
    "# You can convert sparse tensors to dense as well\n",
    "print(\"\\n\", tf.sparse.to_dense(sparse_tensor))"
   ]
  },
  {
   "cell_type": "markdown",
   "id": "central-casino",
   "metadata": {
    "papermill": {
     "duration": 0.023286,
     "end_time": "2023-10-17T22:58:50.107505",
     "exception": false,
     "start_time": "2023-10-17T22:58:50.084219",
     "status": "completed"
    },
    "tags": []
   },
   "source": [
    "**Exercise for readers**:\n",
    "1. Create a random 10x10 sparse tensor\n",
    "2. Gather the elements that are > 5\n",
    "3. Update these elements with a value of 500"
   ]
  },
  {
   "cell_type": "markdown",
   "id": "configured-science",
   "metadata": {
    "papermill": {
     "duration": 0.026104,
     "end_time": "2023-10-17T22:58:50.157517",
     "exception": false,
     "start_time": "2023-10-17T22:58:50.131413",
     "status": "completed"
    },
    "tags": []
   },
   "source": [
    "That's it for part 1! We will be looking at other things in the next tutorial!<br>\n",
    "\n",
    "\n",
    "**References**:\n",
    "1. https://www.tensorflow.org/guide/tensor\n",
    "2. https://keras.io/getting_started/intro_to_keras_for_researchers/"
   ]
  },
  {
   "cell_type": "code",
   "execution_count": null,
   "id": "controversial-commons",
   "metadata": {
    "papermill": {
     "duration": 0.02173,
     "end_time": "2023-10-17T22:58:50.203195",
     "exception": false,
     "start_time": "2023-10-17T22:58:50.181465",
     "status": "completed"
    },
    "tags": []
   },
   "outputs": [],
   "source": []
  }
 ],
 "metadata": {
  "kernelspec": {
   "display_name": "Python 3",
   "language": "python",
   "name": "python3"
  },
  "language_info": {
   "codemirror_mode": {
    "name": "ipython",
    "version": 3
   },
   "file_extension": ".py",
   "mimetype": "text/x-python",
   "name": "python",
   "nbconvert_exporter": "python",
   "pygments_lexer": "ipython3",
   "version": "3.7.10"
  },
  "papermill": {
   "default_parameters": {},
   "duration": 16.893077,
   "end_time": "2023-10-17T22:58:51.851017",
   "environment_variables": {},
   "exception": null,
   "input_path": "__notebook__.ipynb",
   "output_path": "__notebook__.ipynb",
   "parameters": {},
   "start_time": "2023-10-17T22:58:34.957940",
   "version": "2.3.3"
  }
 },
 "nbformat": 4,
 "nbformat_minor": 5
}
